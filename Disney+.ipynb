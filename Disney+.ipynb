{
 "cells": [
  {
   "cell_type": "code",
   "execution_count": 41,
   "id": "5fc73d47",
   "metadata": {},
   "outputs": [],
   "source": [
    "import pandas as pd\n",
    "from matplotlib import pyplot as plt\n",
    "import seaborn as sns"
   ]
  },
  {
   "cell_type": "code",
   "execution_count": 42,
   "id": "26117f9c",
   "metadata": {},
   "outputs": [],
   "source": [
    "disney = pd.read_csv('disney_plus_projects.csv')"
   ]
  },
  {
   "cell_type": "code",
   "execution_count": 43,
   "id": "a41d6818",
   "metadata": {},
   "outputs": [
    {
     "data": {
      "text/html": [
       "<div>\n",
       "<style scoped>\n",
       "    .dataframe tbody tr th:only-of-type {\n",
       "        vertical-align: middle;\n",
       "    }\n",
       "\n",
       "    .dataframe tbody tr th {\n",
       "        vertical-align: top;\n",
       "    }\n",
       "\n",
       "    .dataframe thead th {\n",
       "        text-align: right;\n",
       "    }\n",
       "</style>\n",
       "<table border=\"1\" class=\"dataframe\">\n",
       "  <thead>\n",
       "    <tr style=\"text-align: right;\">\n",
       "      <th></th>\n",
       "      <th>title</th>\n",
       "      <th>year</th>\n",
       "      <th>certificate</th>\n",
       "      <th>runtime_min</th>\n",
       "      <th>genre</th>\n",
       "      <th>rating</th>\n",
       "      <th>votes</th>\n",
       "      <th>director_star</th>\n",
       "    </tr>\n",
       "  </thead>\n",
       "  <tbody>\n",
       "    <tr>\n",
       "      <th>0</th>\n",
       "      <td>The King's Man</td>\n",
       "      <td>2021</td>\n",
       "      <td>R</td>\n",
       "      <td>131</td>\n",
       "      <td>Action, Adventure, Thriller</td>\n",
       "      <td>6.4</td>\n",
       "      <td>90344</td>\n",
       "      <td>Matthew Vaughn</td>\n",
       "    </tr>\n",
       "    <tr>\n",
       "      <th>1</th>\n",
       "      <td>West Side Story</td>\n",
       "      <td>2021</td>\n",
       "      <td>PG-13</td>\n",
       "      <td>156</td>\n",
       "      <td>Crime, Drama, Musical</td>\n",
       "      <td>7.5</td>\n",
       "      <td>46778</td>\n",
       "      <td>Steven Spielberg</td>\n",
       "    </tr>\n",
       "    <tr>\n",
       "      <th>2</th>\n",
       "      <td>The Walking Dead</td>\n",
       "      <td>2010–2022</td>\n",
       "      <td>TV-14</td>\n",
       "      <td>44</td>\n",
       "      <td>Drama, Horror, Thriller</td>\n",
       "      <td>8.3</td>\n",
       "      <td>934972</td>\n",
       "      <td>Andrew Lincoln</td>\n",
       "    </tr>\n",
       "    <tr>\n",
       "      <th>3</th>\n",
       "      <td>Free Guy</td>\n",
       "      <td>2021</td>\n",
       "      <td>PG-13</td>\n",
       "      <td>115</td>\n",
       "      <td>Action, Adventure, Comedy</td>\n",
       "      <td>7.2</td>\n",
       "      <td>303127</td>\n",
       "      <td>Shawn Levy</td>\n",
       "    </tr>\n",
       "    <tr>\n",
       "      <th>4</th>\n",
       "      <td>Pam &amp; Tommy</td>\n",
       "      <td>2022</td>\n",
       "      <td>TV-MA</td>\n",
       "      <td>340</td>\n",
       "      <td>Biography, Drama, Romance</td>\n",
       "      <td>7.4</td>\n",
       "      <td>16576</td>\n",
       "      <td>Lily James</td>\n",
       "    </tr>\n",
       "  </tbody>\n",
       "</table>\n",
       "</div>"
      ],
      "text/plain": [
       "              title       year certificate  runtime_min  \\\n",
       "0    The King's Man       2021           R          131   \n",
       "1   West Side Story       2021       PG-13          156   \n",
       "2  The Walking Dead  2010–2022       TV-14           44   \n",
       "3          Free Guy       2021       PG-13          115   \n",
       "4       Pam & Tommy       2022       TV-MA          340   \n",
       "\n",
       "                                     genre  rating   votes     director_star  \n",
       "0  Action, Adventure, Thriller                 6.4   90344    Matthew Vaughn  \n",
       "1        Crime, Drama, Musical                 7.5   46778  Steven Spielberg  \n",
       "2      Drama, Horror, Thriller                 8.3  934972    Andrew Lincoln  \n",
       "3    Action, Adventure, Comedy                 7.2  303127        Shawn Levy  \n",
       "4    Biography, Drama, Romance                 7.4   16576        Lily James  "
      ]
     },
     "execution_count": 43,
     "metadata": {},
     "output_type": "execute_result"
    }
   ],
   "source": [
    "disney.head()"
   ]
  },
  {
   "cell_type": "code",
   "execution_count": 44,
   "id": "c7993886",
   "metadata": {},
   "outputs": [
    {
     "data": {
      "text/plain": [
       "(7850, 8)"
      ]
     },
     "execution_count": 44,
     "metadata": {},
     "output_type": "execute_result"
    }
   ],
   "source": [
    "disney.shape"
   ]
  },
  {
   "cell_type": "code",
   "execution_count": 45,
   "id": "a69f316b",
   "metadata": {},
   "outputs": [],
   "source": [
    "top_rated=disney[['title','rating']]"
   ]
  },
  {
   "cell_type": "code",
   "execution_count": 46,
   "id": "bd20a572",
   "metadata": {},
   "outputs": [
    {
     "data": {
      "text/html": [
       "<div>\n",
       "<style scoped>\n",
       "    .dataframe tbody tr th:only-of-type {\n",
       "        vertical-align: middle;\n",
       "    }\n",
       "\n",
       "    .dataframe tbody tr th {\n",
       "        vertical-align: top;\n",
       "    }\n",
       "\n",
       "    .dataframe thead th {\n",
       "        text-align: right;\n",
       "    }\n",
       "</style>\n",
       "<table border=\"1\" class=\"dataframe\">\n",
       "  <thead>\n",
       "    <tr style=\"text-align: right;\">\n",
       "      <th></th>\n",
       "      <th>title</th>\n",
       "      <th>rating</th>\n",
       "    </tr>\n",
       "  </thead>\n",
       "  <tbody>\n",
       "    <tr>\n",
       "      <th>0</th>\n",
       "      <td>The King's Man</td>\n",
       "      <td>6.4</td>\n",
       "    </tr>\n",
       "    <tr>\n",
       "      <th>1</th>\n",
       "      <td>West Side Story</td>\n",
       "      <td>7.5</td>\n",
       "    </tr>\n",
       "    <tr>\n",
       "      <th>2</th>\n",
       "      <td>The Walking Dead</td>\n",
       "      <td>8.3</td>\n",
       "    </tr>\n",
       "    <tr>\n",
       "      <th>3</th>\n",
       "      <td>Free Guy</td>\n",
       "      <td>7.2</td>\n",
       "    </tr>\n",
       "    <tr>\n",
       "      <th>4</th>\n",
       "      <td>Pam &amp; Tommy</td>\n",
       "      <td>7.4</td>\n",
       "    </tr>\n",
       "  </tbody>\n",
       "</table>\n",
       "</div>"
      ],
      "text/plain": [
       "              title  rating\n",
       "0    The King's Man     6.4\n",
       "1   West Side Story     7.5\n",
       "2  The Walking Dead     8.3\n",
       "3          Free Guy     7.2\n",
       "4       Pam & Tommy     7.4"
      ]
     },
     "execution_count": 46,
     "metadata": {},
     "output_type": "execute_result"
    }
   ],
   "source": [
    "top_rated.head()"
   ]
  },
  {
   "cell_type": "code",
   "execution_count": 47,
   "id": "2a54ba99",
   "metadata": {},
   "outputs": [],
   "source": [
    "top_rated=top_rated.sort_values(by='rating',ascending=False)"
   ]
  },
  {
   "cell_type": "code",
   "execution_count": 48,
   "id": "cd72886b",
   "metadata": {},
   "outputs": [
    {
     "data": {
      "text/html": [
       "<div>\n",
       "<style scoped>\n",
       "    .dataframe tbody tr th:only-of-type {\n",
       "        vertical-align: middle;\n",
       "    }\n",
       "\n",
       "    .dataframe tbody tr th {\n",
       "        vertical-align: top;\n",
       "    }\n",
       "\n",
       "    .dataframe thead th {\n",
       "        text-align: right;\n",
       "    }\n",
       "</style>\n",
       "<table border=\"1\" class=\"dataframe\">\n",
       "  <thead>\n",
       "    <tr style=\"text-align: right;\">\n",
       "      <th></th>\n",
       "      <th>title</th>\n",
       "      <th>rating</th>\n",
       "    </tr>\n",
       "  </thead>\n",
       "  <tbody>\n",
       "    <tr>\n",
       "      <th>5066</th>\n",
       "      <td>Amphibia</td>\n",
       "      <td>9.9</td>\n",
       "    </tr>\n",
       "    <tr>\n",
       "      <th>7778</th>\n",
       "      <td>Star Wars: The Clone Wars</td>\n",
       "      <td>9.8</td>\n",
       "    </tr>\n",
       "    <tr>\n",
       "      <th>7114</th>\n",
       "      <td>Gravity Falls</td>\n",
       "      <td>9.8</td>\n",
       "    </tr>\n",
       "    <tr>\n",
       "      <th>6978</th>\n",
       "      <td>Gravity Falls</td>\n",
       "      <td>9.8</td>\n",
       "    </tr>\n",
       "    <tr>\n",
       "      <th>7144</th>\n",
       "      <td>Star Wars: Rebels</td>\n",
       "      <td>9.8</td>\n",
       "    </tr>\n",
       "    <tr>\n",
       "      <th>4856</th>\n",
       "      <td>The Mandalorian</td>\n",
       "      <td>9.8</td>\n",
       "    </tr>\n",
       "    <tr>\n",
       "      <th>7779</th>\n",
       "      <td>Star Wars: The Clone Wars</td>\n",
       "      <td>9.8</td>\n",
       "    </tr>\n",
       "    <tr>\n",
       "      <th>7780</th>\n",
       "      <td>Star Wars: The Clone Wars</td>\n",
       "      <td>9.8</td>\n",
       "    </tr>\n",
       "    <tr>\n",
       "      <th>2362</th>\n",
       "      <td>Buffy the Vampire Slayer</td>\n",
       "      <td>9.7</td>\n",
       "    </tr>\n",
       "    <tr>\n",
       "      <th>7777</th>\n",
       "      <td>Star Wars: The Clone Wars</td>\n",
       "      <td>9.7</td>\n",
       "    </tr>\n",
       "  </tbody>\n",
       "</table>\n",
       "</div>"
      ],
      "text/plain": [
       "                          title  rating\n",
       "5066                   Amphibia     9.9\n",
       "7778  Star Wars: The Clone Wars     9.8\n",
       "7114              Gravity Falls     9.8\n",
       "6978              Gravity Falls     9.8\n",
       "7144          Star Wars: Rebels     9.8\n",
       "4856            The Mandalorian     9.8\n",
       "7779  Star Wars: The Clone Wars     9.8\n",
       "7780  Star Wars: The Clone Wars     9.8\n",
       "2362   Buffy the Vampire Slayer     9.7\n",
       "7777  Star Wars: The Clone Wars     9.7"
      ]
     },
     "execution_count": 48,
     "metadata": {},
     "output_type": "execute_result"
    }
   ],
   "source": [
    "top_rated[0:10]"
   ]
  },
  {
   "cell_type": "code",
   "execution_count": 49,
   "id": "7211315c",
   "metadata": {},
   "outputs": [
    {
     "data": {
      "image/png": "[encoded data removed]",
      "text/plain": [
       "<Figure size 576x576 with 1 Axes>"
      ]
     },
     "metadata": {
      "needs_background": "light"
     },
     "output_type": "display_data"
    }
   ],
   "source": [
    "#making a Histogram\n",
    "plt.figure(figsize=(8,8))\n",
    "plt.hist(top_rated['rating'])\n",
    "plt.show()"
   ]
  },
  {
   "cell_type": "code",
   "execution_count": 71,
   "id": "43016ae1",
   "metadata": {},
   "outputs": [],
   "source": [
    "genre=disney['genre']"
   ]
  },
  {
   "cell_type": "code",
   "execution_count": 72,
   "id": "e7806418",
   "metadata": {
    "scrolled": false
   },
   "outputs": [
    {
     "data": {
      "text/plain": [
       "0        Action, Adventure, Thriller            \n",
       "1              Crime, Drama, Musical            \n",
       "2            Drama, Horror, Thriller            \n",
       "3          Action, Adventure, Comedy            \n",
       "4          Biography, Drama, Romance            \n",
       "                          ...                   \n",
       "7845    Animation, Action, Adventure            \n",
       "7846    Animation, Action, Adventure            \n",
       "7847    Animation, Action, Adventure            \n",
       "7848    Animation, Action, Adventure            \n",
       "7849    Animation, Action, Adventure            \n",
       "Name: genre, Length: 7850, dtype: object"
      ]
     },
     "execution_count": 72,
     "metadata": {},
     "output_type": "execute_result"
    }
   ],
   "source": [
    "genre"
   ]
  }
 ],
 "metadata": {
  "kernelspec": {
   "display_name": "Python 3 (ipykernel)",
   "language": "python",
   "name": "python3"
  },
  "language_info": {
   "codemirror_mode": {
    "name": "ipython",
    "version": 3
   },
   "file_extension": ".py",
   "mimetype": "text/x-python",
   "name": "python",
   "nbconvert_exporter": "python",
   "pygments_lexer": "ipython3",
   "version": "3.9.7"
  }
 },
 "nbformat": 4,
 "nbformat_minor": 5
}
